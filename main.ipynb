{
 "cells": [
  {
   "cell_type": "markdown",
   "id": "9738a62b-16da-4c14-894a-ca64c4f43481",
   "metadata": {},
   "source": [
    "# Задание 1.\n",
    "\n",
    "Напишите функцию, которая принимает на вход строку и проверяет, является ли она валидным транспортным номером (1 буква, 3 цифры, 2 буквы, 2–3 цифры). Обратите внимание, что не все буквы кириллического алфавита используются в транспортных номерах.\n",
    "\n",
    "Если номер валиден, то функция должна возвращать отдельно номер и регион.\n",
    "\n",
    "Примеры работы программы:\n",
    "\n",
    "car_id = 'А222BС96’\n",
    "\n",
    "Результат: Номер А222BС валиден. Регион: 96.\n",
    "\n",
    "car_id = 'АБ22ВВ193’\n",
    "\n",
    "Результат: Номер не валиден."
   ]
  },
  {
   "cell_type": "code",
   "execution_count": 2,
   "id": "0034ee92-c246-4d1e-b7aa-c3e5b668af22",
   "metadata": {},
   "outputs": [],
   "source": [
    "import re"
   ]
  },
  {
   "cell_type": "code",
   "execution_count": 5,
   "id": "0b82fece-2124-4c53-98ea-d8e812216621",
   "metadata": {},
   "outputs": [],
   "source": [
    "def check_id(car_id):\n",
    "    x = re.search(r\"[АВЕКМНОРСТУХ]\\d{3}[АВЕКМНОРСТУХ]{2}\\d{2,3}\", car_id)\n",
    "    if x:\n",
    "        return x.string[:-2], x.string[6:]"
   ]
  },
  {
   "cell_type": "code",
   "execution_count": 8,
   "id": "348bea10-3155-4203-a032-a1da2bdcec63",
   "metadata": {},
   "outputs": [
    {
     "name": "stdout",
     "output_type": "stream",
     "text": [
      "Номер А222ВС валиден. Регион: 96.\n"
     ]
    }
   ],
   "source": [
    "num_reg = check_id(\"А222ВС96\")\n",
    "if num_reg:\n",
    "    print(f'Номер {num_reg[0]} валиден. Регион: {num_reg[1]}.')\n",
    "else:\n",
    "    print('Номер не валиден.')"
   ]
  },
  {
   "cell_type": "code",
   "execution_count": 9,
   "id": "0004c273-4d18-4862-9b3d-f812d5b2980e",
   "metadata": {},
   "outputs": [
    {
     "name": "stdout",
     "output_type": "stream",
     "text": [
      "Номер не валиден.\n"
     ]
    }
   ],
   "source": [
    "num_reg = check_id(\"АБ22ВВ193\")\n",
    "if num_reg:\n",
    "    print(f'Номер {num_reg[0]} валиден. Регион: {num_reg[1]}.')\n",
    "else:\n",
    "    print('Номер не валиден.')"
   ]
  },
  {
   "cell_type": "markdown",
   "id": "c8426ea3-c982-4d71-a5cb-3b27eab53c48",
   "metadata": {},
   "source": [
    "# Задание 2. — необязательное\n",
    "\n",
    "Напишите функцию, которая будет удалять все последовательные повторы слов из заданной строки при помощи регулярных выражений.\n",
    "\n",
    "Пример работы программы:\n",
    "\n",
    "some_string = ‘Напишите функцию функцию, которая будет будет будет будет удалять все все все все последовательные повторы слов из из из из заданной строки строки при помощи регулярных выражений’\n",
    "\n",
    "Результат: Напишите функцию, которая будет удалять все последовательные повторы слов из заданной строки при помощи регулярных выражений."
   ]
  },
  {
   "cell_type": "code",
   "execution_count": 10,
   "id": "cf503acf-c6ad-496c-b5cb-3ffbbe034430",
   "metadata": {},
   "outputs": [],
   "source": [
    "def delete_repeats(string):\n",
    "    return re.sub(r'(?<![а-яА-Я])(?=[а-яА-Я])([а-яА-Я]+)(?:[^а-яА-Я]+\\1(?<=[а-яА-Я])(?![а-яА-Я]))+', r'\\1', string, flags=re.IGNORECASE)"
   ]
  },
  {
   "cell_type": "code",
   "execution_count": 11,
   "id": "c569866e-85af-43b4-aac0-5c07203e665c",
   "metadata": {},
   "outputs": [
    {
     "name": "stdout",
     "output_type": "stream",
     "text": [
      "Напишите функцию, которая будет удалять все последовательные повторы слов из заданной строки при помощи регулярных выражений\n"
     ]
    }
   ],
   "source": [
    "some_string = 'Напишите функцию функцию, которая будет будет будет будет удалять все все все все последовательные повторы слов из из из из заданной строки строки при помощи регулярных выражений'\n",
    "\n",
    "print(delete_repeats(some_string))"
   ]
  },
  {
   "cell_type": "code",
   "execution_count": null,
   "id": "80c04d49-1f94-47aa-8b20-4b42c9e2d459",
   "metadata": {},
   "outputs": [],
   "source": []
  }
 ],
 "metadata": {
  "kernelspec": {
   "display_name": "Python 3 (ipykernel)",
   "language": "python",
   "name": "python3"
  },
  "language_info": {
   "codemirror_mode": {
    "name": "ipython",
    "version": 3
   },
   "file_extension": ".py",
   "mimetype": "text/x-python",
   "name": "python",
   "nbconvert_exporter": "python",
   "pygments_lexer": "ipython3",
   "version": "3.12.7"
  }
 },
 "nbformat": 4,
 "nbformat_minor": 5
}
